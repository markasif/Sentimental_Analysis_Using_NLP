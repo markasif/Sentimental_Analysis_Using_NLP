{
 "cells": [
  {
   "cell_type": "code",
   "execution_count": 3,
   "id": "c53f4b23-653c-4ce1-bc0f-4988b47ffed4",
   "metadata": {},
   "outputs": [],
   "source": [
    "import pandas as pd"
   ]
  },
  {
   "cell_type": "code",
   "execution_count": 4,
   "id": "dc877a1d-9a3b-4023-9bb6-e705b946b6dc",
   "metadata": {},
   "outputs": [],
   "source": [
    "data=pd.read_csv(\"all_kindle_review.csv\")"
   ]
  },
  {
   "cell_type": "code",
   "execution_count": 5,
   "id": "ea98858c-6c6f-4903-a48c-bc0e5ba5d10a",
   "metadata": {},
   "outputs": [
    {
     "data": {
      "text/html": [
       "<div>\n",
       "<style scoped>\n",
       "    .dataframe tbody tr th:only-of-type {\n",
       "        vertical-align: middle;\n",
       "    }\n",
       "\n",
       "    .dataframe tbody tr th {\n",
       "        vertical-align: top;\n",
       "    }\n",
       "\n",
       "    .dataframe thead th {\n",
       "        text-align: right;\n",
       "    }\n",
       "</style>\n",
       "<table border=\"1\" class=\"dataframe\">\n",
       "  <thead>\n",
       "    <tr style=\"text-align: right;\">\n",
       "      <th></th>\n",
       "      <th>Unnamed: 0.1</th>\n",
       "      <th>Unnamed: 0</th>\n",
       "      <th>asin</th>\n",
       "      <th>helpful</th>\n",
       "      <th>rating</th>\n",
       "      <th>reviewText</th>\n",
       "      <th>reviewTime</th>\n",
       "      <th>reviewerID</th>\n",
       "      <th>reviewerName</th>\n",
       "      <th>summary</th>\n",
       "      <th>unixReviewTime</th>\n",
       "    </tr>\n",
       "  </thead>\n",
       "  <tbody>\n",
       "    <tr>\n",
       "      <th>0</th>\n",
       "      <td>0</td>\n",
       "      <td>11539</td>\n",
       "      <td>B0033UV8HI</td>\n",
       "      <td>[8, 10]</td>\n",
       "      <td>3</td>\n",
       "      <td>Jace Rankin may be short, but he's nothing to ...</td>\n",
       "      <td>09 2, 2010</td>\n",
       "      <td>A3HHXRELK8BHQG</td>\n",
       "      <td>Ridley</td>\n",
       "      <td>Entertaining But Average</td>\n",
       "      <td>1283385600</td>\n",
       "    </tr>\n",
       "    <tr>\n",
       "      <th>1</th>\n",
       "      <td>1</td>\n",
       "      <td>5957</td>\n",
       "      <td>B002HJV4DE</td>\n",
       "      <td>[1, 1]</td>\n",
       "      <td>5</td>\n",
       "      <td>Great short read.  I didn't want to put it dow...</td>\n",
       "      <td>10 8, 2013</td>\n",
       "      <td>A2RGNZ0TRF578I</td>\n",
       "      <td>Holly Butler</td>\n",
       "      <td>Terrific menage scenes!</td>\n",
       "      <td>1381190400</td>\n",
       "    </tr>\n",
       "    <tr>\n",
       "      <th>2</th>\n",
       "      <td>2</td>\n",
       "      <td>9146</td>\n",
       "      <td>B002ZG96I4</td>\n",
       "      <td>[0, 0]</td>\n",
       "      <td>3</td>\n",
       "      <td>I'll start by saying this is the first of four...</td>\n",
       "      <td>04 11, 2014</td>\n",
       "      <td>A3S0H2HV6U1I7F</td>\n",
       "      <td>Merissa</td>\n",
       "      <td>Snapdragon Alley</td>\n",
       "      <td>1397174400</td>\n",
       "    </tr>\n",
       "    <tr>\n",
       "      <th>3</th>\n",
       "      <td>3</td>\n",
       "      <td>7038</td>\n",
       "      <td>B002QHWOEU</td>\n",
       "      <td>[1, 3]</td>\n",
       "      <td>3</td>\n",
       "      <td>Aggie is Angela Lansbury who carries pocketboo...</td>\n",
       "      <td>07 5, 2014</td>\n",
       "      <td>AC4OQW3GZ919J</td>\n",
       "      <td>Cleargrace</td>\n",
       "      <td>very light murder cozy</td>\n",
       "      <td>1404518400</td>\n",
       "    </tr>\n",
       "    <tr>\n",
       "      <th>4</th>\n",
       "      <td>4</td>\n",
       "      <td>1776</td>\n",
       "      <td>B001A06VJ8</td>\n",
       "      <td>[0, 1]</td>\n",
       "      <td>4</td>\n",
       "      <td>I did not expect this type of book to be in li...</td>\n",
       "      <td>12 31, 2012</td>\n",
       "      <td>A3C9V987IQHOQD</td>\n",
       "      <td>Rjostler</td>\n",
       "      <td>Book</td>\n",
       "      <td>1356912000</td>\n",
       "    </tr>\n",
       "  </tbody>\n",
       "</table>\n",
       "</div>"
      ],
      "text/plain": [
       "   Unnamed: 0.1  Unnamed: 0        asin  helpful  rating  \\\n",
       "0             0       11539  B0033UV8HI  [8, 10]       3   \n",
       "1             1        5957  B002HJV4DE   [1, 1]       5   \n",
       "2             2        9146  B002ZG96I4   [0, 0]       3   \n",
       "3             3        7038  B002QHWOEU   [1, 3]       3   \n",
       "4             4        1776  B001A06VJ8   [0, 1]       4   \n",
       "\n",
       "                                          reviewText   reviewTime  \\\n",
       "0  Jace Rankin may be short, but he's nothing to ...   09 2, 2010   \n",
       "1  Great short read.  I didn't want to put it dow...   10 8, 2013   \n",
       "2  I'll start by saying this is the first of four...  04 11, 2014   \n",
       "3  Aggie is Angela Lansbury who carries pocketboo...   07 5, 2014   \n",
       "4  I did not expect this type of book to be in li...  12 31, 2012   \n",
       "\n",
       "       reviewerID  reviewerName                   summary  unixReviewTime  \n",
       "0  A3HHXRELK8BHQG        Ridley  Entertaining But Average      1283385600  \n",
       "1  A2RGNZ0TRF578I  Holly Butler   Terrific menage scenes!      1381190400  \n",
       "2  A3S0H2HV6U1I7F       Merissa          Snapdragon Alley      1397174400  \n",
       "3   AC4OQW3GZ919J    Cleargrace    very light murder cozy      1404518400  \n",
       "4  A3C9V987IQHOQD      Rjostler                      Book      1356912000  "
      ]
     },
     "execution_count": 5,
     "metadata": {},
     "output_type": "execute_result"
    }
   ],
   "source": [
    "data.head()"
   ]
  },
  {
   "cell_type": "code",
   "execution_count": 6,
   "id": "aa33879e-182e-4bc0-9f64-0761ed1181b4",
   "metadata": {},
   "outputs": [
    {
     "data": {
      "text/plain": [
       "(12000, 11)"
      ]
     },
     "execution_count": 6,
     "metadata": {},
     "output_type": "execute_result"
    }
   ],
   "source": [
    "data.shape"
   ]
  },
  {
   "cell_type": "code",
   "execution_count": 7,
   "id": "4c5603bd-6ea0-4867-8cec-da1508070266",
   "metadata": {},
   "outputs": [],
   "source": [
    "data=data[[\"rating\",\"reviewText\"]]"
   ]
  },
  {
   "cell_type": "code",
   "execution_count": 8,
   "id": "514a9665-d982-4d97-b102-8dc28fe62ebe",
   "metadata": {},
   "outputs": [
    {
     "data": {
      "text/html": [
       "<div>\n",
       "<style scoped>\n",
       "    .dataframe tbody tr th:only-of-type {\n",
       "        vertical-align: middle;\n",
       "    }\n",
       "\n",
       "    .dataframe tbody tr th {\n",
       "        vertical-align: top;\n",
       "    }\n",
       "\n",
       "    .dataframe thead th {\n",
       "        text-align: right;\n",
       "    }\n",
       "</style>\n",
       "<table border=\"1\" class=\"dataframe\">\n",
       "  <thead>\n",
       "    <tr style=\"text-align: right;\">\n",
       "      <th></th>\n",
       "      <th>rating</th>\n",
       "      <th>reviewText</th>\n",
       "    </tr>\n",
       "  </thead>\n",
       "  <tbody>\n",
       "    <tr>\n",
       "      <th>0</th>\n",
       "      <td>3</td>\n",
       "      <td>Jace Rankin may be short, but he's nothing to ...</td>\n",
       "    </tr>\n",
       "    <tr>\n",
       "      <th>1</th>\n",
       "      <td>5</td>\n",
       "      <td>Great short read.  I didn't want to put it dow...</td>\n",
       "    </tr>\n",
       "    <tr>\n",
       "      <th>2</th>\n",
       "      <td>3</td>\n",
       "      <td>I'll start by saying this is the first of four...</td>\n",
       "    </tr>\n",
       "    <tr>\n",
       "      <th>3</th>\n",
       "      <td>3</td>\n",
       "      <td>Aggie is Angela Lansbury who carries pocketboo...</td>\n",
       "    </tr>\n",
       "    <tr>\n",
       "      <th>4</th>\n",
       "      <td>4</td>\n",
       "      <td>I did not expect this type of book to be in li...</td>\n",
       "    </tr>\n",
       "    <tr>\n",
       "      <th>...</th>\n",
       "      <td>...</td>\n",
       "      <td>...</td>\n",
       "    </tr>\n",
       "    <tr>\n",
       "      <th>11995</th>\n",
       "      <td>4</td>\n",
       "      <td>Valentine cupid is a vampire- Jena and Ian ano...</td>\n",
       "    </tr>\n",
       "    <tr>\n",
       "      <th>11996</th>\n",
       "      <td>5</td>\n",
       "      <td>I have read all seven books in this series. Ap...</td>\n",
       "    </tr>\n",
       "    <tr>\n",
       "      <th>11997</th>\n",
       "      <td>3</td>\n",
       "      <td>This book really just wasn't my cuppa.  The si...</td>\n",
       "    </tr>\n",
       "    <tr>\n",
       "      <th>11998</th>\n",
       "      <td>1</td>\n",
       "      <td>tried to use it to charge my kindle, it didn't...</td>\n",
       "    </tr>\n",
       "    <tr>\n",
       "      <th>11999</th>\n",
       "      <td>3</td>\n",
       "      <td>Taking Instruction is a look into the often hi...</td>\n",
       "    </tr>\n",
       "  </tbody>\n",
       "</table>\n",
       "<p>12000 rows × 2 columns</p>\n",
       "</div>"
      ],
      "text/plain": [
       "       rating                                         reviewText\n",
       "0           3  Jace Rankin may be short, but he's nothing to ...\n",
       "1           5  Great short read.  I didn't want to put it dow...\n",
       "2           3  I'll start by saying this is the first of four...\n",
       "3           3  Aggie is Angela Lansbury who carries pocketboo...\n",
       "4           4  I did not expect this type of book to be in li...\n",
       "...       ...                                                ...\n",
       "11995       4  Valentine cupid is a vampire- Jena and Ian ano...\n",
       "11996       5  I have read all seven books in this series. Ap...\n",
       "11997       3  This book really just wasn't my cuppa.  The si...\n",
       "11998       1  tried to use it to charge my kindle, it didn't...\n",
       "11999       3  Taking Instruction is a look into the often hi...\n",
       "\n",
       "[12000 rows x 2 columns]"
      ]
     },
     "execution_count": 8,
     "metadata": {},
     "output_type": "execute_result"
    }
   ],
   "source": [
    "data"
   ]
  },
  {
   "cell_type": "code",
   "execution_count": 9,
   "id": "2f49fd64-3e5e-4b6c-9918-c26776ae808f",
   "metadata": {},
   "outputs": [
    {
     "data": {
      "text/plain": [
       "rating        0\n",
       "reviewText    0\n",
       "dtype: int64"
      ]
     },
     "execution_count": 9,
     "metadata": {},
     "output_type": "execute_result"
    }
   ],
   "source": [
    "data.isnull().sum()"
   ]
  },
  {
   "cell_type": "code",
   "execution_count": 10,
   "id": "7a4ec4fc-6db4-4976-9106-8a72e81aa4b8",
   "metadata": {},
   "outputs": [
    {
     "data": {
      "text/plain": [
       "array([3, 5, 4, 2, 1], dtype=int64)"
      ]
     },
     "execution_count": 10,
     "metadata": {},
     "output_type": "execute_result"
    }
   ],
   "source": [
    "##data donot contain any missing value\n",
    "##let look the unique values in rating\n",
    "data[\"rating\"].unique()"
   ]
  },
  {
   "cell_type": "code",
   "execution_count": 11,
   "id": "ba861975-e9f1-43bb-9612-8d5ead7e97e8",
   "metadata": {},
   "outputs": [
    {
     "data": {
      "text/plain": [
       "5    3000\n",
       "4    3000\n",
       "3    2000\n",
       "2    2000\n",
       "1    2000\n",
       "Name: rating, dtype: int64"
      ]
     },
     "execution_count": 11,
     "metadata": {},
     "output_type": "execute_result"
    }
   ],
   "source": [
    "data[\"rating\"].value_counts()"
   ]
  },
  {
   "cell_type": "code",
   "execution_count": 12,
   "id": "7bb8f9b0-a637-4031-a38b-1abafdd66c28",
   "metadata": {},
   "outputs": [],
   "source": [
    "##preprocessing and cleaning\n",
    "## here im considering rating greater than 3 as positive review and less than as negative review\n",
    "data[\"rating\"]=data[\"rating\"].apply(lambda x : 0 if x<3 else 1)"
   ]
  },
  {
   "cell_type": "code",
   "execution_count": 13,
   "id": "59358c97-5713-462e-97ae-6f432a30e016",
   "metadata": {},
   "outputs": [
    {
     "data": {
      "text/html": [
       "<div>\n",
       "<style scoped>\n",
       "    .dataframe tbody tr th:only-of-type {\n",
       "        vertical-align: middle;\n",
       "    }\n",
       "\n",
       "    .dataframe tbody tr th {\n",
       "        vertical-align: top;\n",
       "    }\n",
       "\n",
       "    .dataframe thead th {\n",
       "        text-align: right;\n",
       "    }\n",
       "</style>\n",
       "<table border=\"1\" class=\"dataframe\">\n",
       "  <thead>\n",
       "    <tr style=\"text-align: right;\">\n",
       "      <th></th>\n",
       "      <th>rating</th>\n",
       "      <th>reviewText</th>\n",
       "    </tr>\n",
       "  </thead>\n",
       "  <tbody>\n",
       "    <tr>\n",
       "      <th>0</th>\n",
       "      <td>1</td>\n",
       "      <td>Jace Rankin may be short, but he's nothing to ...</td>\n",
       "    </tr>\n",
       "    <tr>\n",
       "      <th>1</th>\n",
       "      <td>1</td>\n",
       "      <td>Great short read.  I didn't want to put it dow...</td>\n",
       "    </tr>\n",
       "    <tr>\n",
       "      <th>2</th>\n",
       "      <td>1</td>\n",
       "      <td>I'll start by saying this is the first of four...</td>\n",
       "    </tr>\n",
       "    <tr>\n",
       "      <th>3</th>\n",
       "      <td>1</td>\n",
       "      <td>Aggie is Angela Lansbury who carries pocketboo...</td>\n",
       "    </tr>\n",
       "    <tr>\n",
       "      <th>4</th>\n",
       "      <td>1</td>\n",
       "      <td>I did not expect this type of book to be in li...</td>\n",
       "    </tr>\n",
       "    <tr>\n",
       "      <th>...</th>\n",
       "      <td>...</td>\n",
       "      <td>...</td>\n",
       "    </tr>\n",
       "    <tr>\n",
       "      <th>11995</th>\n",
       "      <td>1</td>\n",
       "      <td>Valentine cupid is a vampire- Jena and Ian ano...</td>\n",
       "    </tr>\n",
       "    <tr>\n",
       "      <th>11996</th>\n",
       "      <td>1</td>\n",
       "      <td>I have read all seven books in this series. Ap...</td>\n",
       "    </tr>\n",
       "    <tr>\n",
       "      <th>11997</th>\n",
       "      <td>1</td>\n",
       "      <td>This book really just wasn't my cuppa.  The si...</td>\n",
       "    </tr>\n",
       "    <tr>\n",
       "      <th>11998</th>\n",
       "      <td>0</td>\n",
       "      <td>tried to use it to charge my kindle, it didn't...</td>\n",
       "    </tr>\n",
       "    <tr>\n",
       "      <th>11999</th>\n",
       "      <td>1</td>\n",
       "      <td>Taking Instruction is a look into the often hi...</td>\n",
       "    </tr>\n",
       "  </tbody>\n",
       "</table>\n",
       "<p>12000 rows × 2 columns</p>\n",
       "</div>"
      ],
      "text/plain": [
       "       rating                                         reviewText\n",
       "0           1  Jace Rankin may be short, but he's nothing to ...\n",
       "1           1  Great short read.  I didn't want to put it dow...\n",
       "2           1  I'll start by saying this is the first of four...\n",
       "3           1  Aggie is Angela Lansbury who carries pocketboo...\n",
       "4           1  I did not expect this type of book to be in li...\n",
       "...       ...                                                ...\n",
       "11995       1  Valentine cupid is a vampire- Jena and Ian ano...\n",
       "11996       1  I have read all seven books in this series. Ap...\n",
       "11997       1  This book really just wasn't my cuppa.  The si...\n",
       "11998       0  tried to use it to charge my kindle, it didn't...\n",
       "11999       1  Taking Instruction is a look into the often hi...\n",
       "\n",
       "[12000 rows x 2 columns]"
      ]
     },
     "execution_count": 13,
     "metadata": {},
     "output_type": "execute_result"
    }
   ],
   "source": [
    "data"
   ]
  },
  {
   "cell_type": "code",
   "execution_count": 14,
   "id": "e41094c0-d34b-423e-878e-a4073f38c37a",
   "metadata": {},
   "outputs": [],
   "source": [
    "##lower the text\n",
    "data[\"reviewText\"] = data[\"reviewText\"].str.lower()"
   ]
  },
  {
   "cell_type": "code",
   "execution_count": 15,
   "id": "18e842e5-90b5-4866-a72c-b5af34136561",
   "metadata": {},
   "outputs": [
    {
     "name": "stderr",
     "output_type": "stream",
     "text": [
      "[nltk_data] Downloading package stopwords to\n",
      "[nltk_data]     C:\\Users\\apasi\\AppData\\Roaming\\nltk_data...\n",
      "[nltk_data]   Package stopwords is already up-to-date!\n"
     ]
    }
   ],
   "source": [
    "import re\n",
    "import nltk\n",
    "nltk.download(\"stopwords\")\n",
    "from nltk.corpus import stopwords"
   ]
  },
  {
   "cell_type": "code",
   "execution_count": 16,
   "id": "8707e601-4e40-45a3-b2c8-f3dbdb15c4aa",
   "metadata": {},
   "outputs": [],
   "source": [
    "from bs4 import BeautifulSoup"
   ]
  },
  {
   "cell_type": "code",
   "execution_count": 17,
   "id": "8eb1905d-3639-41ba-8301-172e2d44cc7b",
   "metadata": {
    "scrolled": true
   },
   "outputs": [],
   "source": [
    "# Removing special characters\n",
    "data[\"reviewText\"] = data[\"reviewText\"].apply(lambda x: re.sub(r'[^a-zA-Z0-9 ]+', '', str(x)))\n",
    "\n",
    "# Removing stopwords\n",
    "stop_words = set(stopwords.words(\"english\"))  # Load the stopwords list\n",
    "data[\"reviewText\"] = data[\"reviewText\"].apply(lambda x: \" \".join([word for word in str(x).split() if word.lower() not in stop_words]))\n",
    "\n",
    "# Removing URLs\n",
    "data[\"reviewText\"] = data[\"reviewText\"].apply(lambda x: re.sub(r'https?://\\S+|www\\.\\S+', '', str(x)))\n",
    "\n",
    "# Removing HTML tags\n",
    "data[\"reviewText\"] = data[\"reviewText\"].apply(lambda x: BeautifulSoup(str(x), 'lxml').get_text())\n",
    "\n",
    "# Removing additional spaces\n",
    "data[\"reviewText\"] = data[\"reviewText\"].apply(lambda x: \" \".join(str(x).split()))\n"
   ]
  },
  {
   "cell_type": "code",
   "execution_count": 18,
   "id": "59ac7041-278e-46c9-bb1d-9c3c748e6f14",
   "metadata": {},
   "outputs": [
    {
     "data": {
      "text/html": [
       "<div>\n",
       "<style scoped>\n",
       "    .dataframe tbody tr th:only-of-type {\n",
       "        vertical-align: middle;\n",
       "    }\n",
       "\n",
       "    .dataframe tbody tr th {\n",
       "        vertical-align: top;\n",
       "    }\n",
       "\n",
       "    .dataframe thead th {\n",
       "        text-align: right;\n",
       "    }\n",
       "</style>\n",
       "<table border=\"1\" class=\"dataframe\">\n",
       "  <thead>\n",
       "    <tr style=\"text-align: right;\">\n",
       "      <th></th>\n",
       "      <th>rating</th>\n",
       "      <th>reviewText</th>\n",
       "    </tr>\n",
       "  </thead>\n",
       "  <tbody>\n",
       "    <tr>\n",
       "      <th>0</th>\n",
       "      <td>1</td>\n",
       "      <td>jace rankin may short hes nothing mess man hau...</td>\n",
       "    </tr>\n",
       "    <tr>\n",
       "      <th>1</th>\n",
       "      <td>1</td>\n",
       "      <td>great short read didnt want put read one sitti...</td>\n",
       "    </tr>\n",
       "    <tr>\n",
       "      <th>2</th>\n",
       "      <td>1</td>\n",
       "      <td>ill start saying first four books wasnt expect...</td>\n",
       "    </tr>\n",
       "    <tr>\n",
       "      <th>3</th>\n",
       "      <td>1</td>\n",
       "      <td>aggie angela lansbury carries pocketbooks inst...</td>\n",
       "    </tr>\n",
       "    <tr>\n",
       "      <th>4</th>\n",
       "      <td>1</td>\n",
       "      <td>expect type book library pleased find price right</td>\n",
       "    </tr>\n",
       "    <tr>\n",
       "      <th>...</th>\n",
       "      <td>...</td>\n",
       "      <td>...</td>\n",
       "    </tr>\n",
       "    <tr>\n",
       "      <th>11995</th>\n",
       "      <td>1</td>\n",
       "      <td>valentine cupid vampire jena ian another vampi...</td>\n",
       "    </tr>\n",
       "    <tr>\n",
       "      <th>11996</th>\n",
       "      <td>1</td>\n",
       "      <td>read seven books series apocalypticadventure o...</td>\n",
       "    </tr>\n",
       "    <tr>\n",
       "      <th>11997</th>\n",
       "      <td>1</td>\n",
       "      <td>book really wasnt cuppa situation man capturin...</td>\n",
       "    </tr>\n",
       "    <tr>\n",
       "      <th>11998</th>\n",
       "      <td>0</td>\n",
       "      <td>tried use charge kindle didnt even register ch...</td>\n",
       "    </tr>\n",
       "    <tr>\n",
       "      <th>11999</th>\n",
       "      <td>1</td>\n",
       "      <td>taking instruction look often hidden world sex...</td>\n",
       "    </tr>\n",
       "  </tbody>\n",
       "</table>\n",
       "<p>12000 rows × 2 columns</p>\n",
       "</div>"
      ],
      "text/plain": [
       "       rating                                         reviewText\n",
       "0           1  jace rankin may short hes nothing mess man hau...\n",
       "1           1  great short read didnt want put read one sitti...\n",
       "2           1  ill start saying first four books wasnt expect...\n",
       "3           1  aggie angela lansbury carries pocketbooks inst...\n",
       "4           1  expect type book library pleased find price right\n",
       "...       ...                                                ...\n",
       "11995       1  valentine cupid vampire jena ian another vampi...\n",
       "11996       1  read seven books series apocalypticadventure o...\n",
       "11997       1  book really wasnt cuppa situation man capturin...\n",
       "11998       0  tried use charge kindle didnt even register ch...\n",
       "11999       1  taking instruction look often hidden world sex...\n",
       "\n",
       "[12000 rows x 2 columns]"
      ]
     },
     "execution_count": 18,
     "metadata": {},
     "output_type": "execute_result"
    }
   ],
   "source": [
    "data"
   ]
  },
  {
   "cell_type": "code",
   "execution_count": 19,
   "id": "97623e14-e62c-4af7-ae1c-8aec5c92de4f",
   "metadata": {},
   "outputs": [],
   "source": [
    "## using lemmatizer\n",
    "from nltk.stem import WordNetLemmatizer\n",
    "lemma = WordNetLemmatizer()"
   ]
  },
  {
   "cell_type": "code",
   "execution_count": 20,
   "id": "6100ff68-5cd3-4e43-aad3-0458c5282808",
   "metadata": {},
   "outputs": [],
   "source": [
    "def lemmatize_data(text):\n",
    "    return \" \".join([lemma.lemmatize(word) for word in text.split()])"
   ]
  },
  {
   "cell_type": "code",
   "execution_count": 21,
   "id": "8ce14555-e034-4b38-97b0-111fc082f5fd",
   "metadata": {},
   "outputs": [],
   "source": [
    "data[\"reviewText\"]=data[\"reviewText\"].apply(lambda x : lemmatize_data(x))"
   ]
  },
  {
   "cell_type": "code",
   "execution_count": 22,
   "id": "96ae5133-9143-4ee4-bf7d-8add7b2d8e18",
   "metadata": {},
   "outputs": [
    {
     "data": {
      "text/html": [
       "<div>\n",
       "<style scoped>\n",
       "    .dataframe tbody tr th:only-of-type {\n",
       "        vertical-align: middle;\n",
       "    }\n",
       "\n",
       "    .dataframe tbody tr th {\n",
       "        vertical-align: top;\n",
       "    }\n",
       "\n",
       "    .dataframe thead th {\n",
       "        text-align: right;\n",
       "    }\n",
       "</style>\n",
       "<table border=\"1\" class=\"dataframe\">\n",
       "  <thead>\n",
       "    <tr style=\"text-align: right;\">\n",
       "      <th></th>\n",
       "      <th>rating</th>\n",
       "      <th>reviewText</th>\n",
       "    </tr>\n",
       "  </thead>\n",
       "  <tbody>\n",
       "    <tr>\n",
       "      <th>0</th>\n",
       "      <td>1</td>\n",
       "      <td>jace rankin may short he nothing mess man haul...</td>\n",
       "    </tr>\n",
       "    <tr>\n",
       "      <th>1</th>\n",
       "      <td>1</td>\n",
       "      <td>great short read didnt want put read one sitti...</td>\n",
       "    </tr>\n",
       "    <tr>\n",
       "      <th>2</th>\n",
       "      <td>1</td>\n",
       "      <td>ill start saying first four book wasnt expecti...</td>\n",
       "    </tr>\n",
       "    <tr>\n",
       "      <th>3</th>\n",
       "      <td>1</td>\n",
       "      <td>aggie angela lansbury carry pocketbook instead...</td>\n",
       "    </tr>\n",
       "    <tr>\n",
       "      <th>4</th>\n",
       "      <td>1</td>\n",
       "      <td>expect type book library pleased find price right</td>\n",
       "    </tr>\n",
       "    <tr>\n",
       "      <th>...</th>\n",
       "      <td>...</td>\n",
       "      <td>...</td>\n",
       "    </tr>\n",
       "    <tr>\n",
       "      <th>11995</th>\n",
       "      <td>1</td>\n",
       "      <td>valentine cupid vampire jena ian another vampi...</td>\n",
       "    </tr>\n",
       "    <tr>\n",
       "      <th>11996</th>\n",
       "      <td>1</td>\n",
       "      <td>read seven book series apocalypticadventure on...</td>\n",
       "    </tr>\n",
       "    <tr>\n",
       "      <th>11997</th>\n",
       "      <td>1</td>\n",
       "      <td>book really wasnt cuppa situation man capturin...</td>\n",
       "    </tr>\n",
       "    <tr>\n",
       "      <th>11998</th>\n",
       "      <td>0</td>\n",
       "      <td>tried use charge kindle didnt even register ch...</td>\n",
       "    </tr>\n",
       "    <tr>\n",
       "      <th>11999</th>\n",
       "      <td>1</td>\n",
       "      <td>taking instruction look often hidden world sex...</td>\n",
       "    </tr>\n",
       "  </tbody>\n",
       "</table>\n",
       "<p>12000 rows × 2 columns</p>\n",
       "</div>"
      ],
      "text/plain": [
       "       rating                                         reviewText\n",
       "0           1  jace rankin may short he nothing mess man haul...\n",
       "1           1  great short read didnt want put read one sitti...\n",
       "2           1  ill start saying first four book wasnt expecti...\n",
       "3           1  aggie angela lansbury carry pocketbook instead...\n",
       "4           1  expect type book library pleased find price right\n",
       "...       ...                                                ...\n",
       "11995       1  valentine cupid vampire jena ian another vampi...\n",
       "11996       1  read seven book series apocalypticadventure on...\n",
       "11997       1  book really wasnt cuppa situation man capturin...\n",
       "11998       0  tried use charge kindle didnt even register ch...\n",
       "11999       1  taking instruction look often hidden world sex...\n",
       "\n",
       "[12000 rows x 2 columns]"
      ]
     },
     "execution_count": 22,
     "metadata": {},
     "output_type": "execute_result"
    }
   ],
   "source": [
    "data"
   ]
  },
  {
   "cell_type": "code",
   "execution_count": 23,
   "id": "255ed891-9991-48bd-a7b9-57d02713cc17",
   "metadata": {},
   "outputs": [],
   "source": [
    "y=data[\"rating\"]\n",
    "X=data[\"reviewText\"]"
   ]
  },
  {
   "cell_type": "code",
   "execution_count": 24,
   "id": "e42f4094-6886-4836-bc40-1ac79390d95b",
   "metadata": {},
   "outputs": [],
   "source": [
    "from sklearn.model_selection import train_test_split\n",
    "X_train,X_test,y_train,y_test = train_test_split(X,y,test_size=0.25,random_state=42)"
   ]
  },
  {
   "cell_type": "code",
   "execution_count": 25,
   "id": "ea7277c4-f738-4cfd-b272-8072dce7c00a",
   "metadata": {},
   "outputs": [],
   "source": [
    "from sklearn.feature_extraction.text import CountVectorizer\n",
    "bow=CountVectorizer()"
   ]
  },
  {
   "cell_type": "code",
   "execution_count": 26,
   "id": "86cd4d72-844a-4add-b9dd-138b6535475f",
   "metadata": {},
   "outputs": [],
   "source": [
    "X_train_bow = bow.fit_transform(X_train).toarray()\n",
    "X_test_bow = bow.transform(X_test).toarray()"
   ]
  },
  {
   "cell_type": "code",
   "execution_count": 27,
   "id": "cda0cbc8-c6af-4030-92af-b5ad082b8a1b",
   "metadata": {},
   "outputs": [],
   "source": [
    "from sklearn.feature_extraction.text import TfidfVectorizer\n",
    "tf=TfidfVectorizer()"
   ]
  },
  {
   "cell_type": "code",
   "execution_count": 28,
   "id": "b4507f24-be27-4f1d-942e-891b10be8233",
   "metadata": {},
   "outputs": [],
   "source": [
    "X_train_tf = tf.fit_transform(X_train).toarray()\n",
    "X_test_tf = tf.transform(X_test).toarray()"
   ]
  },
  {
   "cell_type": "code",
   "execution_count": 29,
   "id": "c90dfb88-b54f-4f09-b285-53b667fae530",
   "metadata": {},
   "outputs": [],
   "source": [
    "from sklearn.naive_bayes import GaussianNB"
   ]
  },
  {
   "cell_type": "code",
   "execution_count": 30,
   "id": "5f7e598c-9da5-4fa9-8fba-83a9ffbc0816",
   "metadata": {},
   "outputs": [],
   "source": [
    "nb_model_bow=GaussianNB().fit(X_train_bow,y_train)\n",
    "nb_model_tf=GaussianNB().fit(X_train_tf,y_train)"
   ]
  },
  {
   "cell_type": "code",
   "execution_count": 31,
   "id": "e8726241-e070-497c-8b69-96cb8f604096",
   "metadata": {},
   "outputs": [],
   "source": [
    "y_pred_bow = nb_model_bow.predict(X_test_bow)\n",
    "y_pred_tf = nb_model_tf.predict(X_test_tf)"
   ]
  },
  {
   "cell_type": "code",
   "execution_count": 36,
   "id": "9c637b3f-d8a3-434d-832c-41c1662b583a",
   "metadata": {},
   "outputs": [],
   "source": [
    "from sklearn.metrics import accuracy_score,classification_report,confusion_matrix"
   ]
  },
  {
   "cell_type": "code",
   "execution_count": 37,
   "id": "aece210e-be18-44ff-a3d5-a396f89363a5",
   "metadata": {},
   "outputs": [
    {
     "data": {
      "text/plain": [
       "array([[ 641,  861],\n",
       "       [ 383, 1115]], dtype=int64)"
      ]
     },
     "execution_count": 37,
     "metadata": {},
     "output_type": "execute_result"
    }
   ],
   "source": [
    "confusion_matrix(y_pred_bow,y_test)"
   ]
  },
  {
   "cell_type": "code",
   "execution_count": 34,
   "id": "51611348-72f5-450b-9cbd-6d32e566a9c9",
   "metadata": {},
   "outputs": [
    {
     "data": {
      "text/plain": [
       "0.5853333333333334"
      ]
     },
     "execution_count": 34,
     "metadata": {},
     "output_type": "execute_result"
    }
   ],
   "source": [
    "##accuracy of bag of word\n",
    "accuracy_score(y_pred_bow,y_test)"
   ]
  },
  {
   "cell_type": "code",
   "execution_count": 38,
   "id": "fafd66eb-f192-44c7-8287-64cc90c73c56",
   "metadata": {},
   "outputs": [
    {
     "data": {
      "text/plain": [
       "array([[ 620,  837],\n",
       "       [ 404, 1139]], dtype=int64)"
      ]
     },
     "execution_count": 38,
     "metadata": {},
     "output_type": "execute_result"
    }
   ],
   "source": [
    "confusion_matrix(y_pred_tf,y_test)"
   ]
  },
  {
   "cell_type": "code",
   "execution_count": 35,
   "id": "3d79cc98-131c-4546-9ff1-cec881b0b112",
   "metadata": {},
   "outputs": [
    {
     "data": {
      "text/plain": [
       "0.5863333333333334"
      ]
     },
     "execution_count": 35,
     "metadata": {},
     "output_type": "execute_result"
    }
   ],
   "source": [
    "##accuracy of tf-idf\n",
    "accuracy_score(y_pred_tf,y_test)"
   ]
  },
  {
   "cell_type": "code",
   "execution_count": 39,
   "id": "2f2e2aa7-937a-4f33-b709-a87c321a29bb",
   "metadata": {},
   "outputs": [
    {
     "name": "stdout",
     "output_type": "stream",
     "text": [
      "              precision    recall  f1-score   support\n",
      "\n",
      "           0       0.63      0.43      0.51      1502\n",
      "           1       0.56      0.74      0.64      1498\n",
      "\n",
      "    accuracy                           0.59      3000\n",
      "   macro avg       0.60      0.59      0.57      3000\n",
      "weighted avg       0.60      0.59      0.57      3000\n",
      "\n",
      "              precision    recall  f1-score   support\n",
      "\n",
      "           0       0.61      0.43      0.50      1457\n",
      "           1       0.58      0.74      0.65      1543\n",
      "\n",
      "    accuracy                           0.59      3000\n",
      "   macro avg       0.59      0.58      0.57      3000\n",
      "weighted avg       0.59      0.59      0.58      3000\n",
      "\n"
     ]
    }
   ],
   "source": [
    "print(classification_report(y_pred_bow,y_test))\n",
    "print(classification_report(y_pred_tf,y_test))"
   ]
  },
  {
   "cell_type": "code",
   "execution_count": null,
   "id": "a6eeda79-e499-4b48-96ef-5f52a74dc9d8",
   "metadata": {},
   "outputs": [],
   "source": []
  }
 ],
 "metadata": {
  "kernelspec": {
   "display_name": "Python 3 (ipykernel)",
   "language": "python",
   "name": "python3"
  },
  "language_info": {
   "codemirror_mode": {
    "name": "ipython",
    "version": 3
   },
   "file_extension": ".py",
   "mimetype": "text/x-python",
   "name": "python",
   "nbconvert_exporter": "python",
   "pygments_lexer": "ipython3",
   "version": "3.11.7"
  }
 },
 "nbformat": 4,
 "nbformat_minor": 5
}
